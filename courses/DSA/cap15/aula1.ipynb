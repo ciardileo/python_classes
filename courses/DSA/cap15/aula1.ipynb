{
 "cells": [
  {
   "cell_type": "markdown",
   "metadata": {},
   "source": [
    "Problema de negócio:\n",
    "É possível prever o salário de alguém com base no número de horas de estudo por mês?"
   ]
  },
  {
   "cell_type": "code",
   "execution_count": 9,
   "metadata": {},
   "outputs": [],
   "source": [
    "# imports\n",
    "import numpy as np\n",
    "import pandas as pd\n",
    "import matplotlib.pyplot as plt\n",
    "import seaborn as sns \n",
    "from sklearn.linear_model import LinearRegression\n",
    "from sklearn.model_selection import train_test_split\n",
    "import plotly.express as px"
   ]
  },
  {
   "cell_type": "markdown",
   "metadata": {},
   "source": [
    "### Carregando os dados"
   ]
  },
  {
   "cell_type": "code",
   "execution_count": 4,
   "metadata": {},
   "outputs": [],
   "source": [
    "# carregando os dados\n",
    "df = pd.read_csv('dataset.csv')"
   ]
  },
  {
   "cell_type": "markdown",
   "metadata": {},
   "source": [
    "### Preparação dos dados"
   ]
  },
  {
   "cell_type": "code",
   "execution_count": 15,
   "metadata": {},
   "outputs": [],
   "source": [
    "X = np.array(df['horas_estudo_mes'])\n",
    "X = X.reshape(-1, 1)  # transforma em uma matriz de X (-1 diz para o numpy calcular o numero de linhas necessárias) por 1 coluna\n",
    "\n",
    "# O X é a constante, queremos prever o y a partir do X"
   ]
  },
  {
   "cell_type": "code",
   "execution_count": 14,
   "metadata": {},
   "outputs": [],
   "source": [
    "y = df['salario']"
   ]
  },
  {
   "cell_type": "code",
   "execution_count": 16,
   "metadata": {},
   "outputs": [
    {
     "data": {
      "application/vnd.plotly.v1+json": {
       "config": {
        "plotlyServerURL": "https://plot.ly"
       },
       "data": [
        {
         "hovertemplate": "horas_estudo_mes=%{x}<br>salario=%{y}<extra></extra>",
         "legendgroup": "",
         "marker": {
          "color": "#636efa",
          "symbol": "circle"
         },
         "mode": "markers",
         "name": "",
         "orientation": "v",
         "showlegend": false,
         "type": "scatter",
         "x": [
          57,
          48,
          60,
          73,
          46,
          46,
          74,
          62,
          43,
          58,
          43,
          43,
          54,
          21,
          24,
          42,
          35,
          55,
          36,
          29,
          72,
          47,
          51,
          29,
          42,
          52,
          33,
          56,
          41,
          46,
          41,
          78,
          50,
          34,
          62,
          32,
          53,
          21,
          30,
          53,
          61,
          53,
          48,
          45,
          28,
          39,
          43,
          66,
          55,
          24,
          55,
          44,
          40,
          59,
          65,
          64,
          37,
          45,
          55,
          65,
          43,
          47,
          33,
          32,
          62,
          70,
          49,
          65,
          55,
          40,
          55,
          73,
          49,
          73,
          11,
          62,
          51,
          46,
          51,
          20,
          47,
          55,
          72,
          42,
          38,
          42,
          64,
          55,
          42,
          58,
          51,
          65,
          39,
          45,
          44,
          28,
          54,
          54,
          50,
          46,
          29,
          44,
          45,
          38,
          48,
          56,
          78,
          53,
          54,
          49,
          21,
          50,
          51,
          87,
          47,
          55,
          49,
          32,
          67,
          61,
          62,
          36,
          71,
          29,
          59,
          83,
          35,
          42,
          51,
          42,
          27,
          51,
          34,
          57,
          36,
          73,
          38,
          45,
          62,
          32,
          53,
          70,
          26,
          53,
          54,
          62,
          31,
          30,
          58,
          54,
          54,
          55,
          40,
          53,
          54,
          39,
          78,
          57,
          32,
          60,
          35,
          62,
          67,
          38,
          64,
          56,
          62,
          78,
          46,
          39,
          37,
          38,
          49,
          55,
          54,
          62,
          50,
          72,
          46,
          91,
          59,
          37,
          34,
          57,
          47,
          61,
          57,
          49,
          37,
          27,
          43,
          63,
          53,
          31,
          53,
          56,
          37,
          52,
          51,
          33,
          55,
          58,
          66,
          66,
          29,
          36,
          58,
          58,
          58,
          100,
          59,
          67,
          64,
          60,
          45,
          61,
          38,
          46,
          43,
          51,
          85,
          22,
          60,
          26,
          43,
          66,
          51,
          34,
          39,
          60,
          39,
          53,
          51,
          40,
          82,
          60,
          20,
          53,
          40,
          63,
          38,
          48,
          58,
          63,
          32,
          45,
          43,
          40,
          76,
          56,
          31,
          64,
          82,
          65,
          27,
          43,
          69,
          39,
          57,
          62,
          36,
          49,
          1,
          35,
          46,
          31,
          74,
          29,
          43,
          52,
          72,
          28,
          67,
          50,
          35,
          57,
          53,
          41,
          51,
          44,
          52,
          60,
          74,
          31,
          82,
          21,
          48,
          59,
          54,
          41,
          47,
          43,
          41,
          63,
          55,
          40,
          63,
          55,
          62,
          59,
          38,
          42,
          61,
          59,
          50,
          52,
          69,
          41,
          58,
          47,
          47,
          66,
          62,
          62,
          70,
          50,
          60,
          45,
          55,
          48,
          51,
          59,
          38,
          81,
          35,
          32,
          67,
          62,
          59,
          59,
          50,
          37,
          51,
          40,
          65,
          48,
          38,
          45,
          56,
          42,
          38,
          54,
          54,
          42,
          43,
          53,
          28,
          29,
          39,
          47,
          55,
          72,
          63,
          48,
          50,
          35,
          50,
          46,
          55,
          38,
          58,
          73,
          48,
          56,
          60,
          44,
          53,
          50,
          51,
          38,
          50,
          57,
          72,
          64,
          82,
          38,
          63,
          53,
          83,
          38,
          37,
          41,
          18,
          42,
          39,
          52,
          55,
          78,
          64,
          41,
          37,
          57,
          30,
          77,
          68,
          43,
          24,
          70,
          48,
          69,
          26,
          41,
          50,
          51,
          43,
          59,
          34,
          48,
          52,
          58,
          61,
          33,
          27,
          69,
          55,
          39,
          73,
          52,
          68,
          51,
          81,
          76,
          46,
          65,
          60,
          71,
          36,
          60,
          66,
          24,
          32,
          19,
          46,
          61,
          73,
          51,
          74,
          29,
          24,
          49,
          56,
          50,
          19,
          49,
          30,
          60,
          55,
          36,
          42,
          34,
          49,
          64,
          35,
          58,
          42,
          38,
          48,
          34,
          42,
          32,
          79,
          51,
          40,
          53,
          48,
          47,
          59,
          61,
          42,
          41,
          46,
          15,
          27,
          71,
          75,
          46,
          59,
          55,
          96,
          67,
          48,
          36,
          26,
          53,
          39,
          29,
          40,
          34,
          75,
          63,
          50,
          72,
          51,
          37,
          73,
          58,
          34,
          47,
          37,
          29
         ],
         "xaxis": "x",
         "y": [
          6813,
          6855,
          5801,
          7431,
          5475,
          5556,
          6904,
          6168,
          5674,
          5985,
          5785,
          5625,
          6081,
          4096,
          4412,
          5978,
          5500,
          5761,
          5350,
          5326,
          6265,
          6122,
          5719,
          5235,
          5218,
          5198,
          4336,
          6324,
          5680,
          5348,
          5869,
          6569,
          5967,
          4594,
          6274,
          5124,
          5720,
          4358,
          5503,
          5862,
          6968,
          5585,
          6165,
          6471,
          3664,
          5052,
          5939,
          6698,
          6436,
          4398,
          6293,
          5622,
          6084,
          6577,
          6919,
          6494,
          5106,
          5534,
          6447,
          6540,
          5795,
          6888,
          5586,
          4937,
          7201,
          6796,
          4931,
          6246,
          5315,
          5324,
          6259,
          7988,
          6113,
          7040,
          4465,
          5494,
          6168,
          6185,
          5311,
          5072,
          6019,
          6042,
          7416,
          6735,
          5491,
          5724,
          6470,
          5825,
          6015,
          5972,
          6086,
          6511,
          5689,
          5917,
          6219,
          4645,
          6065,
          5711,
          5778,
          5989,
          5328,
          5239,
          6185,
          6078,
          6107,
          7238,
          7013,
          5528,
          5311,
          6698,
          4877,
          5972,
          6190,
          7287,
          7073,
          6315,
          6005,
          5463,
          7091,
          6662,
          6205,
          5536,
          7991,
          5623,
          7247,
          7394,
          4755,
          5537,
          6078,
          6147,
          4004,
          6815,
          5121,
          6137,
          4794,
          6323,
          5812,
          5787,
          5955,
          4452,
          5982,
          7835,
          4670,
          5398,
          6077,
          6464,
          3702,
          4973,
          6285,
          6548,
          7124,
          6813,
          5366,
          5597,
          7487,
          5480,
          7407,
          6338,
          5199,
          6428,
          4963,
          6327,
          6834,
          5128,
          6344,
          6353,
          6473,
          8152,
          4475,
          5996,
          5973,
          4363,
          5779,
          6064,
          5496,
          6211,
          5445,
          7976,
          6268,
          8686,
          6811,
          4785,
          4938,
          6595,
          5239,
          6906,
          6230,
          5763,
          5705,
          5072,
          5470,
          7230,
          5609,
          5358,
          6447,
          6145,
          5513,
          5474,
          6512,
          5058,
          5989,
          6925,
          6448,
          6096,
          4172,
          5603,
          5760,
          7277,
          5359,
          9348,
          6556,
          6802,
          6428,
          6700,
          5731,
          7102,
          5457,
          5875,
          5468,
          6022,
          7904,
          3745,
          5826,
          5172,
          5735,
          6708,
          6059,
          5374,
          5180,
          6111,
          5548,
          5661,
          6254,
          4649,
          8115,
          6736,
          4628,
          6641,
          6333,
          7157,
          4480,
          5260,
          6088,
          6663,
          5359,
          5387,
          5743,
          5122,
          6994,
          5597,
          4588,
          6024,
          7112,
          7277,
          4375,
          6966,
          7197,
          5542,
          5921,
          6950,
          5012,
          6011,
          4830,
          5202,
          6375,
          4698,
          7183,
          5835,
          5337,
          7006,
          7454,
          4619,
          7166,
          6486,
          5561,
          5565,
          5786,
          5426,
          6013,
          6010,
          6189,
          5832,
          7390,
          5355,
          7880,
          5090,
          6317,
          6680,
          6165,
          4720,
          6065,
          5754,
          5686,
          6012,
          5709,
          6027,
          6630,
          6591,
          6614,
          6465,
          5869,
          5342,
          6598,
          6219,
          5783,
          5945,
          7061,
          5311,
          7028,
          5403,
          5757,
          6580,
          7323,
          6698,
          7516,
          5257,
          6634,
          6195,
          6291,
          6433,
          5791,
          7155,
          6549,
          7369,
          5027,
          5827,
          7640,
          6339,
          6240,
          6309,
          5328,
          4891,
          5548,
          5116,
          6733,
          6017,
          6175,
          5251,
          6792,
          5493,
          5375,
          6537,
          5639,
          5791,
          5733,
          6396,
          5045,
          6178,
          5131,
          5585,
          5938,
          6822,
          6331,
          6495,
          6710,
          4965,
          5584,
          6036,
          5974,
          5716,
          6501,
          6392,
          6674,
          7198,
          6194,
          5506,
          6293,
          6167,
          6379,
          6405,
          5912,
          5951,
          6410,
          6335,
          7583,
          6297,
          6391,
          6262,
          7642,
          5994,
          6613,
          5285,
          4155,
          6122,
          5791,
          7023,
          6542,
          7220,
          6995,
          6104,
          5760,
          6604,
          5533,
          7935,
          7591,
          5974,
          4616,
          7073,
          6503,
          6542,
          4984,
          5353,
          6014,
          6689,
          5746,
          6473,
          4520,
          6273,
          6423,
          7482,
          6396,
          5260,
          4975,
          7739,
          6202,
          5590,
          7454,
          6193,
          6677,
          6147,
          8087,
          6787,
          5866,
          6400,
          7098,
          6288,
          5021,
          6689,
          7583,
          4667,
          4822,
          5391,
          5076,
          5451,
          7370,
          5799,
          6689,
          5304,
          4822,
          5668,
          5660,
          6436,
          4775,
          5900,
          5923,
          5965,
          5487,
          4954,
          5577,
          5322,
          5829,
          6876,
          4624,
          7122,
          5559,
          5959,
          6071,
          5428,
          5885,
          5324,
          7771,
          6715,
          5598,
          6505,
          5855,
          6570,
          6112,
          7450,
          5580,
          4835,
          5864,
          3909,
          5270,
          6724,
          7027,
          4855,
          6224,
          5038,
          7508,
          7230,
          6293,
          5513,
          4317,
          6126,
          5448,
          4371,
          6252,
          5639,
          7140,
          6663,
          6104,
          6079,
          5926,
          5009,
          6649,
          6259,
          6099,
          6170,
          5064,
          5236
         ],
         "yaxis": "y"
        }
       ],
       "layout": {
        "legend": {
         "tracegroupgap": 0
        },
        "template": {
         "data": {
          "bar": [
           {
            "error_x": {
             "color": "#2a3f5f"
            },
            "error_y": {
             "color": "#2a3f5f"
            },
            "marker": {
             "line": {
              "color": "#E5ECF6",
              "width": 0.5
             },
             "pattern": {
              "fillmode": "overlay",
              "size": 10,
              "solidity": 0.2
             }
            },
            "type": "bar"
           }
          ],
          "barpolar": [
           {
            "marker": {
             "line": {
              "color": "#E5ECF6",
              "width": 0.5
             },
             "pattern": {
              "fillmode": "overlay",
              "size": 10,
              "solidity": 0.2
             }
            },
            "type": "barpolar"
           }
          ],
          "carpet": [
           {
            "aaxis": {
             "endlinecolor": "#2a3f5f",
             "gridcolor": "white",
             "linecolor": "white",
             "minorgridcolor": "white",
             "startlinecolor": "#2a3f5f"
            },
            "baxis": {
             "endlinecolor": "#2a3f5f",
             "gridcolor": "white",
             "linecolor": "white",
             "minorgridcolor": "white",
             "startlinecolor": "#2a3f5f"
            },
            "type": "carpet"
           }
          ],
          "choropleth": [
           {
            "colorbar": {
             "outlinewidth": 0,
             "ticks": ""
            },
            "type": "choropleth"
           }
          ],
          "contour": [
           {
            "colorbar": {
             "outlinewidth": 0,
             "ticks": ""
            },
            "colorscale": [
             [
              0,
              "#0d0887"
             ],
             [
              0.1111111111111111,
              "#46039f"
             ],
             [
              0.2222222222222222,
              "#7201a8"
             ],
             [
              0.3333333333333333,
              "#9c179e"
             ],
             [
              0.4444444444444444,
              "#bd3786"
             ],
             [
              0.5555555555555556,
              "#d8576b"
             ],
             [
              0.6666666666666666,
              "#ed7953"
             ],
             [
              0.7777777777777778,
              "#fb9f3a"
             ],
             [
              0.8888888888888888,
              "#fdca26"
             ],
             [
              1,
              "#f0f921"
             ]
            ],
            "type": "contour"
           }
          ],
          "contourcarpet": [
           {
            "colorbar": {
             "outlinewidth": 0,
             "ticks": ""
            },
            "type": "contourcarpet"
           }
          ],
          "heatmap": [
           {
            "colorbar": {
             "outlinewidth": 0,
             "ticks": ""
            },
            "colorscale": [
             [
              0,
              "#0d0887"
             ],
             [
              0.1111111111111111,
              "#46039f"
             ],
             [
              0.2222222222222222,
              "#7201a8"
             ],
             [
              0.3333333333333333,
              "#9c179e"
             ],
             [
              0.4444444444444444,
              "#bd3786"
             ],
             [
              0.5555555555555556,
              "#d8576b"
             ],
             [
              0.6666666666666666,
              "#ed7953"
             ],
             [
              0.7777777777777778,
              "#fb9f3a"
             ],
             [
              0.8888888888888888,
              "#fdca26"
             ],
             [
              1,
              "#f0f921"
             ]
            ],
            "type": "heatmap"
           }
          ],
          "heatmapgl": [
           {
            "colorbar": {
             "outlinewidth": 0,
             "ticks": ""
            },
            "colorscale": [
             [
              0,
              "#0d0887"
             ],
             [
              0.1111111111111111,
              "#46039f"
             ],
             [
              0.2222222222222222,
              "#7201a8"
             ],
             [
              0.3333333333333333,
              "#9c179e"
             ],
             [
              0.4444444444444444,
              "#bd3786"
             ],
             [
              0.5555555555555556,
              "#d8576b"
             ],
             [
              0.6666666666666666,
              "#ed7953"
             ],
             [
              0.7777777777777778,
              "#fb9f3a"
             ],
             [
              0.8888888888888888,
              "#fdca26"
             ],
             [
              1,
              "#f0f921"
             ]
            ],
            "type": "heatmapgl"
           }
          ],
          "histogram": [
           {
            "marker": {
             "pattern": {
              "fillmode": "overlay",
              "size": 10,
              "solidity": 0.2
             }
            },
            "type": "histogram"
           }
          ],
          "histogram2d": [
           {
            "colorbar": {
             "outlinewidth": 0,
             "ticks": ""
            },
            "colorscale": [
             [
              0,
              "#0d0887"
             ],
             [
              0.1111111111111111,
              "#46039f"
             ],
             [
              0.2222222222222222,
              "#7201a8"
             ],
             [
              0.3333333333333333,
              "#9c179e"
             ],
             [
              0.4444444444444444,
              "#bd3786"
             ],
             [
              0.5555555555555556,
              "#d8576b"
             ],
             [
              0.6666666666666666,
              "#ed7953"
             ],
             [
              0.7777777777777778,
              "#fb9f3a"
             ],
             [
              0.8888888888888888,
              "#fdca26"
             ],
             [
              1,
              "#f0f921"
             ]
            ],
            "type": "histogram2d"
           }
          ],
          "histogram2dcontour": [
           {
            "colorbar": {
             "outlinewidth": 0,
             "ticks": ""
            },
            "colorscale": [
             [
              0,
              "#0d0887"
             ],
             [
              0.1111111111111111,
              "#46039f"
             ],
             [
              0.2222222222222222,
              "#7201a8"
             ],
             [
              0.3333333333333333,
              "#9c179e"
             ],
             [
              0.4444444444444444,
              "#bd3786"
             ],
             [
              0.5555555555555556,
              "#d8576b"
             ],
             [
              0.6666666666666666,
              "#ed7953"
             ],
             [
              0.7777777777777778,
              "#fb9f3a"
             ],
             [
              0.8888888888888888,
              "#fdca26"
             ],
             [
              1,
              "#f0f921"
             ]
            ],
            "type": "histogram2dcontour"
           }
          ],
          "mesh3d": [
           {
            "colorbar": {
             "outlinewidth": 0,
             "ticks": ""
            },
            "type": "mesh3d"
           }
          ],
          "parcoords": [
           {
            "line": {
             "colorbar": {
              "outlinewidth": 0,
              "ticks": ""
             }
            },
            "type": "parcoords"
           }
          ],
          "pie": [
           {
            "automargin": true,
            "type": "pie"
           }
          ],
          "scatter": [
           {
            "fillpattern": {
             "fillmode": "overlay",
             "size": 10,
             "solidity": 0.2
            },
            "type": "scatter"
           }
          ],
          "scatter3d": [
           {
            "line": {
             "colorbar": {
              "outlinewidth": 0,
              "ticks": ""
             }
            },
            "marker": {
             "colorbar": {
              "outlinewidth": 0,
              "ticks": ""
             }
            },
            "type": "scatter3d"
           }
          ],
          "scattercarpet": [
           {
            "marker": {
             "colorbar": {
              "outlinewidth": 0,
              "ticks": ""
             }
            },
            "type": "scattercarpet"
           }
          ],
          "scattergeo": [
           {
            "marker": {
             "colorbar": {
              "outlinewidth": 0,
              "ticks": ""
             }
            },
            "type": "scattergeo"
           }
          ],
          "scattergl": [
           {
            "marker": {
             "colorbar": {
              "outlinewidth": 0,
              "ticks": ""
             }
            },
            "type": "scattergl"
           }
          ],
          "scattermapbox": [
           {
            "marker": {
             "colorbar": {
              "outlinewidth": 0,
              "ticks": ""
             }
            },
            "type": "scattermapbox"
           }
          ],
          "scatterpolar": [
           {
            "marker": {
             "colorbar": {
              "outlinewidth": 0,
              "ticks": ""
             }
            },
            "type": "scatterpolar"
           }
          ],
          "scatterpolargl": [
           {
            "marker": {
             "colorbar": {
              "outlinewidth": 0,
              "ticks": ""
             }
            },
            "type": "scatterpolargl"
           }
          ],
          "scatterternary": [
           {
            "marker": {
             "colorbar": {
              "outlinewidth": 0,
              "ticks": ""
             }
            },
            "type": "scatterternary"
           }
          ],
          "surface": [
           {
            "colorbar": {
             "outlinewidth": 0,
             "ticks": ""
            },
            "colorscale": [
             [
              0,
              "#0d0887"
             ],
             [
              0.1111111111111111,
              "#46039f"
             ],
             [
              0.2222222222222222,
              "#7201a8"
             ],
             [
              0.3333333333333333,
              "#9c179e"
             ],
             [
              0.4444444444444444,
              "#bd3786"
             ],
             [
              0.5555555555555556,
              "#d8576b"
             ],
             [
              0.6666666666666666,
              "#ed7953"
             ],
             [
              0.7777777777777778,
              "#fb9f3a"
             ],
             [
              0.8888888888888888,
              "#fdca26"
             ],
             [
              1,
              "#f0f921"
             ]
            ],
            "type": "surface"
           }
          ],
          "table": [
           {
            "cells": {
             "fill": {
              "color": "#EBF0F8"
             },
             "line": {
              "color": "white"
             }
            },
            "header": {
             "fill": {
              "color": "#C8D4E3"
             },
             "line": {
              "color": "white"
             }
            },
            "type": "table"
           }
          ]
         },
         "layout": {
          "annotationdefaults": {
           "arrowcolor": "#2a3f5f",
           "arrowhead": 0,
           "arrowwidth": 1
          },
          "autotypenumbers": "strict",
          "coloraxis": {
           "colorbar": {
            "outlinewidth": 0,
            "ticks": ""
           }
          },
          "colorscale": {
           "diverging": [
            [
             0,
             "#8e0152"
            ],
            [
             0.1,
             "#c51b7d"
            ],
            [
             0.2,
             "#de77ae"
            ],
            [
             0.3,
             "#f1b6da"
            ],
            [
             0.4,
             "#fde0ef"
            ],
            [
             0.5,
             "#f7f7f7"
            ],
            [
             0.6,
             "#e6f5d0"
            ],
            [
             0.7,
             "#b8e186"
            ],
            [
             0.8,
             "#7fbc41"
            ],
            [
             0.9,
             "#4d9221"
            ],
            [
             1,
             "#276419"
            ]
           ],
           "sequential": [
            [
             0,
             "#0d0887"
            ],
            [
             0.1111111111111111,
             "#46039f"
            ],
            [
             0.2222222222222222,
             "#7201a8"
            ],
            [
             0.3333333333333333,
             "#9c179e"
            ],
            [
             0.4444444444444444,
             "#bd3786"
            ],
            [
             0.5555555555555556,
             "#d8576b"
            ],
            [
             0.6666666666666666,
             "#ed7953"
            ],
            [
             0.7777777777777778,
             "#fb9f3a"
            ],
            [
             0.8888888888888888,
             "#fdca26"
            ],
            [
             1,
             "#f0f921"
            ]
           ],
           "sequentialminus": [
            [
             0,
             "#0d0887"
            ],
            [
             0.1111111111111111,
             "#46039f"
            ],
            [
             0.2222222222222222,
             "#7201a8"
            ],
            [
             0.3333333333333333,
             "#9c179e"
            ],
            [
             0.4444444444444444,
             "#bd3786"
            ],
            [
             0.5555555555555556,
             "#d8576b"
            ],
            [
             0.6666666666666666,
             "#ed7953"
            ],
            [
             0.7777777777777778,
             "#fb9f3a"
            ],
            [
             0.8888888888888888,
             "#fdca26"
            ],
            [
             1,
             "#f0f921"
            ]
           ]
          },
          "colorway": [
           "#636efa",
           "#EF553B",
           "#00cc96",
           "#ab63fa",
           "#FFA15A",
           "#19d3f3",
           "#FF6692",
           "#B6E880",
           "#FF97FF",
           "#FECB52"
          ],
          "font": {
           "color": "#2a3f5f"
          },
          "geo": {
           "bgcolor": "white",
           "lakecolor": "white",
           "landcolor": "#E5ECF6",
           "showlakes": true,
           "showland": true,
           "subunitcolor": "white"
          },
          "hoverlabel": {
           "align": "left"
          },
          "hovermode": "closest",
          "mapbox": {
           "style": "light"
          },
          "paper_bgcolor": "white",
          "plot_bgcolor": "#E5ECF6",
          "polar": {
           "angularaxis": {
            "gridcolor": "white",
            "linecolor": "white",
            "ticks": ""
           },
           "bgcolor": "#E5ECF6",
           "radialaxis": {
            "gridcolor": "white",
            "linecolor": "white",
            "ticks": ""
           }
          },
          "scene": {
           "xaxis": {
            "backgroundcolor": "#E5ECF6",
            "gridcolor": "white",
            "gridwidth": 2,
            "linecolor": "white",
            "showbackground": true,
            "ticks": "",
            "zerolinecolor": "white"
           },
           "yaxis": {
            "backgroundcolor": "#E5ECF6",
            "gridcolor": "white",
            "gridwidth": 2,
            "linecolor": "white",
            "showbackground": true,
            "ticks": "",
            "zerolinecolor": "white"
           },
           "zaxis": {
            "backgroundcolor": "#E5ECF6",
            "gridcolor": "white",
            "gridwidth": 2,
            "linecolor": "white",
            "showbackground": true,
            "ticks": "",
            "zerolinecolor": "white"
           }
          },
          "shapedefaults": {
           "line": {
            "color": "#2a3f5f"
           }
          },
          "ternary": {
           "aaxis": {
            "gridcolor": "white",
            "linecolor": "white",
            "ticks": ""
           },
           "baxis": {
            "gridcolor": "white",
            "linecolor": "white",
            "ticks": ""
           },
           "bgcolor": "#E5ECF6",
           "caxis": {
            "gridcolor": "white",
            "linecolor": "white",
            "ticks": ""
           }
          },
          "title": {
           "x": 0.05
          },
          "xaxis": {
           "automargin": true,
           "gridcolor": "white",
           "linecolor": "white",
           "ticks": "",
           "title": {
            "standoff": 15
           },
           "zerolinecolor": "white",
           "zerolinewidth": 2
          },
          "yaxis": {
           "automargin": true,
           "gridcolor": "white",
           "linecolor": "white",
           "ticks": "",
           "title": {
            "standoff": 15
           },
           "zerolinecolor": "white",
           "zerolinewidth": 2
          }
         }
        },
        "title": {
         "text": "Salário e Horas de Estudo"
        },
        "xaxis": {
         "anchor": "y",
         "domain": [
          0,
          1
         ],
         "title": {
          "text": "horas_estudo_mes"
         }
        },
        "yaxis": {
         "anchor": "x",
         "domain": [
          0,
          1
         ],
         "title": {
          "text": "salario"
         }
        }
       }
      }
     },
     "metadata": {},
     "output_type": "display_data"
    }
   ],
   "source": [
    "# gráfico com plotly\n",
    "fig = px.scatter(df, x='horas_estudo_mes', y='salario', title=\"Salário e Horas de Estudo\")\n",
    "fig.show()"
   ]
  },
  {
   "cell_type": "code",
   "execution_count": 7,
   "metadata": {},
   "outputs": [
    {
     "data": {
      "image/png": "[encoded data removed]",
      "text/plain": [
       "<Figure size 640x480 with 1 Axes>"
      ]
     },
     "metadata": {},
     "output_type": "display_data"
    }
   ],
   "source": [
    "# gráfico\n",
    "plt.scatter(X, y)\n",
    "plt.xlabel(\"Horas de estudo\")\n",
    "plt.ylabel(\"Salário\")\n",
    "plt.show()"
   ]
  },
  {
   "cell_type": "code",
   "execution_count": null,
   "metadata": {},
   "outputs": [],
   "source": [
    "# treinamento e teste dos dados\n",
    "x_treino, x_teste, y_treino, y_teste = train_test_split(X, y, test_size=0.2, random_state=42)  # 20% aleatório dos dados vai para teste\n",
    "x_treino.shape"
   ]
  },
  {
   "cell_type": "markdown",
   "metadata": {},
   "source": [
    "### Montagem do modelo"
   ]
  },
  {
   "cell_type": "code",
   "execution_count": 7,
   "metadata": {},
   "outputs": [],
   "source": [
    "# criação do modelo de regressão linear simples\n",
    "model = LinearRegression()"
   ]
  },
  {
   "cell_type": "code",
   "execution_count": null,
   "metadata": {},
   "outputs": [],
   "source": [
    "# treinamento do modelo\n",
    "model.fit(x_treino, y_treino)"
   ]
  },
  {
   "cell_type": "code",
   "execution_count": null,
   "metadata": {},
   "outputs": [],
   "source": [
    "# visualização da reta de regressão linear\n",
    "plt.scatter(X, y)\n",
    "plt.plot(X, model.predict(X), color=\"red\", label=\"Previsão do Modelo\")\n",
    "plt.xlabel(\"Horas de Estudo\")\n",
    "plt.ylabel(\"Salário\")\n",
    "plt.legend()\n",
    "plt.show()"
   ]
  },
  {
   "cell_type": "code",
   "execution_count": null,
   "metadata": {},
   "outputs": [],
   "source": [
    "# avaliação do modelo -> em R²\n",
    "score = model.score(x_teste, y_teste)\n",
    "score"
   ]
  },
  {
   "cell_type": "code",
   "execution_count": null,
   "metadata": {},
   "outputs": [],
   "source": [
    "# o modelo cria operações matemáticas que geram duas variáveis para realizar a função para descobrir a variável alvo\n",
    "model.intercept_  # Intercepto - W0\n",
    "model.coef_  # Slope - W1"
   ]
  },
  {
   "cell_type": "markdown",
   "metadata": {},
   "source": [
    "### Deploy (aplicação do modelo)"
   ]
  },
  {
   "cell_type": "code",
   "execution_count": null,
   "metadata": {},
   "outputs": [],
   "source": [
    "n = int(input(\"Quantas horas por mês você estuda: \"))\n",
    "horas_estudos2 = np.array([[n]])\n",
    "\n",
    "salario_previsto = model.predict(horas_estudos2)  # previsão do valor (apenas aplica a fórmula após descobrir W0 e W1)\n",
    "\n",
    "print(f\"Seu salário será cerca de R${salario_previsto[0]}\")"
   ]
  },
  {
   "cell_type": "markdown",
   "metadata": {},
   "source": [
    "### Teste com StatsModels"
   ]
  },
  {
   "cell_type": "code",
   "execution_count": null,
   "metadata": {},
   "outputs": [],
   "source": [
    "import statsmodels.api as sm\n",
    "\n",
    "X2 = df['horas_estudo_mes']\n",
    "X2 = sm.add_constant(X2)\n",
    "\n",
    "y2 = df['salario']\n",
    "\n",
    "model = sm.OLS(y2, X2)\n",
    "result = model.fit()\n",
    "print(result.summary())"
   ]
  }
 ],
 "metadata": {
  "kernelspec": {
   "display_name": "venv",
   "language": "python",
   "name": "python3"
  },
  "language_info": {
   "codemirror_mode": {
    "name": "ipython",
    "version": 3
   },
   "file_extension": ".py",
   "mimetype": "text/x-python",
   "name": "python",
   "nbconvert_exporter": "python",
   "pygments_lexer": "ipython3",
   "version": "3.12.0"
  }
 },
 "nbformat": 4,
 "nbformat_minor": 2
}
